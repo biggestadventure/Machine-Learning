{
 "cells": [
  {
   "cell_type": "code",
   "execution_count": 1,
   "metadata": {
    "id": "WvTlqOR_s1MU"
   },
   "outputs": [],
   "source": [
    "# import hierarchical clustering libraries\n",
    "import scipy.cluster.hierarchy as sch \n",
    "from sklearn.cluster import AgglomerativeClustering\n",
    "\n",
    "import numpy as np\n",
    "import pandas as pd\n",
    "from matplotlib import pyplot as plt\n",
    "import seaborn as sn"
   ]
  },
  {
   "cell_type": "code",
   "execution_count": null,
   "metadata": {
    "id": "3R2nt349s1MY"
   },
   "outputs": [],
   "source": [
    "Univ = pd.read_csv(\"https://raw.githubusercontent.com/slmsshk/DataSet/main/Universities.csv\")"
   ]
  },
  {
   "cell_type": "code",
   "execution_count": 2,
   "metadata": {},
   "outputs": [],
   "source": [
    "Univ = pd.read_csv('Copy of Universities.csv')"
   ]
  },
  {
   "cell_type": "code",
   "execution_count": 3,
   "metadata": {
    "id": "fwwj7Hdrs1MY"
   },
   "outputs": [],
   "source": [
    "# Normalization function # use sklearn library norm\n",
    "def norm_func(i):\n",
    "    x = (i-i.min())/(i.max()-i.min())\n",
    "    return x"
   ]
  },
  {
   "cell_type": "code",
   "execution_count": 4,
   "metadata": {
    "id": "RVid7pAMs1MZ"
   },
   "outputs": [],
   "source": [
    "# Normalized data frame (considering the numerical part of data)\n",
    "df_norm = norm_func(Univ.iloc[:,1:])"
   ]
  },
  {
   "cell_type": "code",
   "execution_count": 5,
   "metadata": {
    "id": "iOyXY7WL5Qfn"
   },
   "outputs": [
    {
     "data": {
      "text/html": [
       "<div>\n",
       "<style scoped>\n",
       "    .dataframe tbody tr th:only-of-type {\n",
       "        vertical-align: middle;\n",
       "    }\n",
       "\n",
       "    .dataframe tbody tr th {\n",
       "        vertical-align: top;\n",
       "    }\n",
       "\n",
       "    .dataframe thead th {\n",
       "        text-align: right;\n",
       "    }\n",
       "</style>\n",
       "<table border=\"1\" class=\"dataframe\">\n",
       "  <thead>\n",
       "    <tr style=\"text-align: right;\">\n",
       "      <th></th>\n",
       "      <th>SAT</th>\n",
       "      <th>Top10</th>\n",
       "      <th>Accept</th>\n",
       "      <th>SFRatio</th>\n",
       "      <th>Expenses</th>\n",
       "      <th>GradRate</th>\n",
       "    </tr>\n",
       "  </thead>\n",
       "  <tbody>\n",
       "    <tr>\n",
       "      <th>0</th>\n",
       "      <td>0.743902</td>\n",
       "      <td>0.847222</td>\n",
       "      <td>0.105263</td>\n",
       "      <td>0.368421</td>\n",
       "      <td>0.255144</td>\n",
       "      <td>0.900000</td>\n",
       "    </tr>\n",
       "    <tr>\n",
       "      <th>1</th>\n",
       "      <td>1.000000</td>\n",
       "      <td>1.000000</td>\n",
       "      <td>0.144737</td>\n",
       "      <td>0.000000</td>\n",
       "      <td>1.000000</td>\n",
       "      <td>0.466667</td>\n",
       "    </tr>\n",
       "    <tr>\n",
       "      <th>2</th>\n",
       "      <td>0.621951</td>\n",
       "      <td>0.472222</td>\n",
       "      <td>0.592105</td>\n",
       "      <td>0.157895</td>\n",
       "      <td>0.297461</td>\n",
       "      <td>0.166667</td>\n",
       "    </tr>\n",
       "    <tr>\n",
       "      <th>3</th>\n",
       "      <td>0.743902</td>\n",
       "      <td>0.666667</td>\n",
       "      <td>0.131579</td>\n",
       "      <td>0.315789</td>\n",
       "      <td>0.415629</td>\n",
       "      <td>0.700000</td>\n",
       "    </tr>\n",
       "    <tr>\n",
       "      <th>4</th>\n",
       "      <td>0.670732</td>\n",
       "      <td>0.763889</td>\n",
       "      <td>0.250000</td>\n",
       "      <td>0.368421</td>\n",
       "      <td>0.239835</td>\n",
       "      <td>0.766667</td>\n",
       "    </tr>\n",
       "    <tr>\n",
       "      <th>5</th>\n",
       "      <td>0.817073</td>\n",
       "      <td>0.847222</td>\n",
       "      <td>0.118421</td>\n",
       "      <td>0.210526</td>\n",
       "      <td>0.427512</td>\n",
       "      <td>0.933333</td>\n",
       "    </tr>\n",
       "    <tr>\n",
       "      <th>6</th>\n",
       "      <td>0.756098</td>\n",
       "      <td>0.861111</td>\n",
       "      <td>0.210526</td>\n",
       "      <td>0.315789</td>\n",
       "      <td>0.416996</td>\n",
       "      <td>0.933333</td>\n",
       "    </tr>\n",
       "    <tr>\n",
       "      <th>7</th>\n",
       "      <td>0.609756</td>\n",
       "      <td>0.638889</td>\n",
       "      <td>0.131579</td>\n",
       "      <td>0.315789</td>\n",
       "      <td>0.208161</td>\n",
       "      <td>0.833333</td>\n",
       "    </tr>\n",
       "    <tr>\n",
       "      <th>8</th>\n",
       "      <td>0.963415</td>\n",
       "      <td>0.875000</td>\n",
       "      <td>0.000000</td>\n",
       "      <td>0.263158</td>\n",
       "      <td>0.561699</td>\n",
       "      <td>1.000000</td>\n",
       "    </tr>\n",
       "    <tr>\n",
       "      <th>9</th>\n",
       "      <td>0.731707</td>\n",
       "      <td>0.652778</td>\n",
       "      <td>0.394737</td>\n",
       "      <td>0.052632</td>\n",
       "      <td>0.910991</td>\n",
       "      <td>0.666667</td>\n",
       "    </tr>\n",
       "    <tr>\n",
       "      <th>10</th>\n",
       "      <td>0.914634</td>\n",
       "      <td>0.916667</td>\n",
       "      <td>0.210526</td>\n",
       "      <td>0.210526</td>\n",
       "      <td>0.476864</td>\n",
       "      <td>0.800000</td>\n",
       "    </tr>\n",
       "    <tr>\n",
       "      <th>11</th>\n",
       "      <td>0.621951</td>\n",
       "      <td>0.791667</td>\n",
       "      <td>0.328947</td>\n",
       "      <td>0.263158</td>\n",
       "      <td>0.352609</td>\n",
       "      <td>0.733333</td>\n",
       "    </tr>\n",
       "    <tr>\n",
       "      <th>12</th>\n",
       "      <td>0.609756</td>\n",
       "      <td>0.736111</td>\n",
       "      <td>0.368421</td>\n",
       "      <td>0.368421</td>\n",
       "      <td>0.116965</td>\n",
       "      <td>0.900000</td>\n",
       "    </tr>\n",
       "    <tr>\n",
       "      <th>13</th>\n",
       "      <td>0.185366</td>\n",
       "      <td>0.138889</td>\n",
       "      <td>0.526316</td>\n",
       "      <td>0.631579</td>\n",
       "      <td>0.026991</td>\n",
       "      <td>0.433333</td>\n",
       "    </tr>\n",
       "    <tr>\n",
       "      <th>14</th>\n",
       "      <td>0.902439</td>\n",
       "      <td>0.875000</td>\n",
       "      <td>0.000000</td>\n",
       "      <td>0.105263</td>\n",
       "      <td>0.392120</td>\n",
       "      <td>0.933333</td>\n",
       "    </tr>\n",
       "    <tr>\n",
       "      <th>15</th>\n",
       "      <td>0.000000</td>\n",
       "      <td>0.000000</td>\n",
       "      <td>1.000000</td>\n",
       "      <td>0.684211</td>\n",
       "      <td>0.006597</td>\n",
       "      <td>0.066667</td>\n",
       "    </tr>\n",
       "    <tr>\n",
       "      <th>16</th>\n",
       "      <td>0.865854</td>\n",
       "      <td>0.861111</td>\n",
       "      <td>0.078947</td>\n",
       "      <td>0.315789</td>\n",
       "      <td>0.505659</td>\n",
       "      <td>0.866667</td>\n",
       "    </tr>\n",
       "    <tr>\n",
       "      <th>17</th>\n",
       "      <td>0.170732</td>\n",
       "      <td>0.291667</td>\n",
       "      <td>0.697368</td>\n",
       "      <td>1.000000</td>\n",
       "      <td>0.000000</td>\n",
       "      <td>0.000000</td>\n",
       "    </tr>\n",
       "    <tr>\n",
       "      <th>18</th>\n",
       "      <td>0.573171</td>\n",
       "      <td>0.930556</td>\n",
       "      <td>0.342105</td>\n",
       "      <td>0.578947</td>\n",
       "      <td>0.117293</td>\n",
       "      <td>0.366667</td>\n",
       "    </tr>\n",
       "    <tr>\n",
       "      <th>19</th>\n",
       "      <td>0.695122</td>\n",
       "      <td>0.652778</td>\n",
       "      <td>0.473684</td>\n",
       "      <td>0.368421</td>\n",
       "      <td>0.540832</td>\n",
       "      <td>0.666667</td>\n",
       "    </tr>\n",
       "    <tr>\n",
       "      <th>20</th>\n",
       "      <td>0.426829</td>\n",
       "      <td>0.513889</td>\n",
       "      <td>0.710526</td>\n",
       "      <td>0.526316</td>\n",
       "      <td>0.123307</td>\n",
       "      <td>0.600000</td>\n",
       "    </tr>\n",
       "    <tr>\n",
       "      <th>21</th>\n",
       "      <td>0.682927</td>\n",
       "      <td>0.722222</td>\n",
       "      <td>0.289474</td>\n",
       "      <td>0.263158</td>\n",
       "      <td>0.343515</td>\n",
       "      <td>0.766667</td>\n",
       "    </tr>\n",
       "    <tr>\n",
       "      <th>22</th>\n",
       "      <td>0.536585</td>\n",
       "      <td>0.680556</td>\n",
       "      <td>0.394737</td>\n",
       "      <td>0.421053</td>\n",
       "      <td>0.084653</td>\n",
       "      <td>0.833333</td>\n",
       "    </tr>\n",
       "    <tr>\n",
       "      <th>23</th>\n",
       "      <td>0.195122</td>\n",
       "      <td>0.166667</td>\n",
       "      <td>0.723684</td>\n",
       "      <td>0.473684</td>\n",
       "      <td>0.057462</td>\n",
       "      <td>0.133333</td>\n",
       "    </tr>\n",
       "    <tr>\n",
       "      <th>24</th>\n",
       "      <td>0.902439</td>\n",
       "      <td>0.930556</td>\n",
       "      <td>0.065789</td>\n",
       "      <td>0.263158</td>\n",
       "      <td>0.634397</td>\n",
       "      <td>0.966667</td>\n",
       "    </tr>\n",
       "  </tbody>\n",
       "</table>\n",
       "</div>"
      ],
      "text/plain": [
       "         SAT     Top10    Accept   SFRatio  Expenses  GradRate\n",
       "0   0.743902  0.847222  0.105263  0.368421  0.255144  0.900000\n",
       "1   1.000000  1.000000  0.144737  0.000000  1.000000  0.466667\n",
       "2   0.621951  0.472222  0.592105  0.157895  0.297461  0.166667\n",
       "3   0.743902  0.666667  0.131579  0.315789  0.415629  0.700000\n",
       "4   0.670732  0.763889  0.250000  0.368421  0.239835  0.766667\n",
       "5   0.817073  0.847222  0.118421  0.210526  0.427512  0.933333\n",
       "6   0.756098  0.861111  0.210526  0.315789  0.416996  0.933333\n",
       "7   0.609756  0.638889  0.131579  0.315789  0.208161  0.833333\n",
       "8   0.963415  0.875000  0.000000  0.263158  0.561699  1.000000\n",
       "9   0.731707  0.652778  0.394737  0.052632  0.910991  0.666667\n",
       "10  0.914634  0.916667  0.210526  0.210526  0.476864  0.800000\n",
       "11  0.621951  0.791667  0.328947  0.263158  0.352609  0.733333\n",
       "12  0.609756  0.736111  0.368421  0.368421  0.116965  0.900000\n",
       "13  0.185366  0.138889  0.526316  0.631579  0.026991  0.433333\n",
       "14  0.902439  0.875000  0.000000  0.105263  0.392120  0.933333\n",
       "15  0.000000  0.000000  1.000000  0.684211  0.006597  0.066667\n",
       "16  0.865854  0.861111  0.078947  0.315789  0.505659  0.866667\n",
       "17  0.170732  0.291667  0.697368  1.000000  0.000000  0.000000\n",
       "18  0.573171  0.930556  0.342105  0.578947  0.117293  0.366667\n",
       "19  0.695122  0.652778  0.473684  0.368421  0.540832  0.666667\n",
       "20  0.426829  0.513889  0.710526  0.526316  0.123307  0.600000\n",
       "21  0.682927  0.722222  0.289474  0.263158  0.343515  0.766667\n",
       "22  0.536585  0.680556  0.394737  0.421053  0.084653  0.833333\n",
       "23  0.195122  0.166667  0.723684  0.473684  0.057462  0.133333\n",
       "24  0.902439  0.930556  0.065789  0.263158  0.634397  0.966667"
      ]
     },
     "execution_count": 5,
     "metadata": {},
     "output_type": "execute_result"
    }
   ],
   "source": [
    "df_norm"
   ]
  },
  {
   "cell_type": "code",
   "execution_count": 6,
   "metadata": {
    "id": "JxP5egl5s1MZ"
   },
   "outputs": [
    {
     "data": {
      "image/png": "[encoded data removed]",
      "text/plain": [
       "<Figure size 640x480 with 1 Axes>"
      ]
     },
     "metadata": {},
     "output_type": "display_data"
    }
   ],
   "source": [
    "# create dendrogram\n",
    "dendrogram = sch.dendrogram(sch.linkage(df_norm, method='complete'))"
   ]
  },
  {
   "cell_type": "code",
   "execution_count": 7,
   "metadata": {
    "id": "GszTUQ9ws1Ma"
   },
   "outputs": [],
   "source": [
    "# create clusters\n",
    "hc = AgglomerativeClustering(n_clusters=5, affinity = 'euclidean', linkage = 'complete')"
   ]
  },
  {
   "cell_type": "code",
   "execution_count": 8,
   "metadata": {
    "id": "wsngLVVX1dbD"
   },
   "outputs": [
    {
     "data": {
      "text/plain": [
       "AgglomerativeClustering(linkage='complete', n_clusters=5)"
      ]
     },
     "execution_count": 8,
     "metadata": {},
     "output_type": "execute_result"
    }
   ],
   "source": [
    "hc.fit(df_norm)\n",
    "# hc.predict(df_norm)"
   ]
  },
  {
   "cell_type": "code",
   "execution_count": 9,
   "metadata": {
    "id": "5uoT4JUts1Ma"
   },
   "outputs": [],
   "source": [
    "# save clusters for chart\n",
    "y_hc = hc.fit_predict(df_norm)\n",
    "# Clusters=pd.DataFrame(y_hc,columns=['Clusters'])"
   ]
  },
  {
   "cell_type": "code",
   "execution_count": 10,
   "metadata": {
    "id": "9i8_Cu3sNR4W"
   },
   "outputs": [
    {
     "data": {
      "text/plain": [
       "array([3, 4, 2, 3, 3, 0, 0, 3, 0, 0, 0, 3, 3, 1, 0, 1, 0, 1, 2, 0, 2, 3,\n",
       "       3, 1, 0], dtype=int64)"
      ]
     },
     "execution_count": 10,
     "metadata": {},
     "output_type": "execute_result"
    }
   ],
   "source": [
    "y_hc"
   ]
  },
  {
   "cell_type": "code",
   "execution_count": null,
   "metadata": {
    "id": "C64yIXQzs1Mb"
   },
   "outputs": [],
   "source": [
    "Univ['h_clusterid'] = y_hc"
   ]
  },
  {
   "cell_type": "code",
   "execution_count": null,
   "metadata": {
    "id": "aaBINR4WNXuI"
   },
   "outputs": [],
   "source": [
    "Univ.head()"
   ]
  },
  {
   "cell_type": "code",
   "execution_count": null,
   "metadata": {
    "id": "spFS7GQ5s1Mb"
   },
   "outputs": [],
   "source": [
    "Univ1=Univ.sort_values(\"h_clusterid\")\n",
    "Univ1.iloc[:,[0,-1]]"
   ]
  },
  {
   "cell_type": "markdown",
   "metadata": {
    "id": "P8fnm6jl-QLi"
   },
   "source": [
    "# Practice "
   ]
  },
  {
   "cell_type": "code",
   "execution_count": null,
   "metadata": {
    "id": "Dqqky3ug063H"
   },
   "outputs": [],
   "source": [
    "from sklearn.datasets import load_iris\n",
    "data = load_iris(as_frame=True).frame"
   ]
  },
  {
   "cell_type": "code",
   "execution_count": null,
   "metadata": {
    "id": "2CeM1myE9ncI"
   },
   "outputs": [],
   "source": [
    "data"
   ]
  }
 ],
 "metadata": {
  "colab": {
   "collapsed_sections": [],
   "provenance": []
  },
  "kernelspec": {
   "display_name": "Python 3",
   "language": "python",
   "name": "python3"
  },
  "language_info": {
   "codemirror_mode": {
    "name": "ipython",
    "version": 3
   },
   "file_extension": ".py",
   "mimetype": "text/x-python",
   "name": "python",
   "nbconvert_exporter": "python",
   "pygments_lexer": "ipython3",
   "version": "3.9.13"
  }
 },
 "nbformat": 4,
 "nbformat_minor": 1
}
