{
 "cells": [
  {
   "cell_type": "code",
   "execution_count": 1,
   "id": "83d87c9a",
   "metadata": {},
   "outputs": [],
   "source": [
    "import pandas as pd\n",
    "import numpy as np\n",
    "import matplotlib.pyplot as plt\n",
    "import seaborn as sns\n",
    "\n",
    "from sklearn.preprocessing import StandardScaler,normalize\n",
    "from sklearn.model_selection import GridSearchCV,RandomizedSearchCV,train_test_split,cross_val_score\n",
    "from sklearn.metrics import accuracy_score, confusion_matrix, classification_report\n",
    "from sklearn import svm\n",
    "from sklearn.svm import SVC"
   ]
  },
  {
   "cell_type": "code",
   "execution_count": 2,
   "id": "fe98e8ea",
   "metadata": {},
   "outputs": [
    {
     "data": {
      "text/html": [
       "<div>\n",
       "<style scoped>\n",
       "    .dataframe tbody tr th:only-of-type {\n",
       "        vertical-align: middle;\n",
       "    }\n",
       "\n",
       "    .dataframe tbody tr th {\n",
       "        vertical-align: top;\n",
       "    }\n",
       "\n",
       "    .dataframe thead th {\n",
       "        text-align: right;\n",
       "    }\n",
       "</style>\n",
       "<table border=\"1\" class=\"dataframe\">\n",
       "  <thead>\n",
       "    <tr style=\"text-align: right;\">\n",
       "      <th></th>\n",
       "      <th>preg</th>\n",
       "      <th>plas</th>\n",
       "      <th>pres</th>\n",
       "      <th>skin</th>\n",
       "      <th>test</th>\n",
       "      <th>mass</th>\n",
       "      <th>pedi</th>\n",
       "      <th>age</th>\n",
       "      <th>class</th>\n",
       "    </tr>\n",
       "  </thead>\n",
       "  <tbody>\n",
       "    <tr>\n",
       "      <th>0</th>\n",
       "      <td>6</td>\n",
       "      <td>148</td>\n",
       "      <td>72</td>\n",
       "      <td>35</td>\n",
       "      <td>0</td>\n",
       "      <td>33.6</td>\n",
       "      <td>0.627</td>\n",
       "      <td>50</td>\n",
       "      <td>1</td>\n",
       "    </tr>\n",
       "    <tr>\n",
       "      <th>1</th>\n",
       "      <td>1</td>\n",
       "      <td>85</td>\n",
       "      <td>66</td>\n",
       "      <td>29</td>\n",
       "      <td>0</td>\n",
       "      <td>26.6</td>\n",
       "      <td>0.351</td>\n",
       "      <td>31</td>\n",
       "      <td>0</td>\n",
       "    </tr>\n",
       "    <tr>\n",
       "      <th>2</th>\n",
       "      <td>8</td>\n",
       "      <td>183</td>\n",
       "      <td>64</td>\n",
       "      <td>0</td>\n",
       "      <td>0</td>\n",
       "      <td>23.3</td>\n",
       "      <td>0.672</td>\n",
       "      <td>32</td>\n",
       "      <td>1</td>\n",
       "    </tr>\n",
       "    <tr>\n",
       "      <th>3</th>\n",
       "      <td>1</td>\n",
       "      <td>89</td>\n",
       "      <td>66</td>\n",
       "      <td>23</td>\n",
       "      <td>94</td>\n",
       "      <td>28.1</td>\n",
       "      <td>0.167</td>\n",
       "      <td>21</td>\n",
       "      <td>0</td>\n",
       "    </tr>\n",
       "    <tr>\n",
       "      <th>4</th>\n",
       "      <td>0</td>\n",
       "      <td>137</td>\n",
       "      <td>40</td>\n",
       "      <td>35</td>\n",
       "      <td>168</td>\n",
       "      <td>43.1</td>\n",
       "      <td>2.288</td>\n",
       "      <td>33</td>\n",
       "      <td>1</td>\n",
       "    </tr>\n",
       "  </tbody>\n",
       "</table>\n",
       "</div>"
      ],
      "text/plain": [
       "   preg  plas  pres  skin  test  mass   pedi  age  class\n",
       "0     6   148    72    35     0  33.6  0.627   50      1\n",
       "1     1    85    66    29     0  26.6  0.351   31      0\n",
       "2     8   183    64     0     0  23.3  0.672   32      1\n",
       "3     1    89    66    23    94  28.1  0.167   21      0\n",
       "4     0   137    40    35   168  43.1  2.288   33      1"
      ]
     },
     "execution_count": 2,
     "metadata": {},
     "output_type": "execute_result"
    }
   ],
   "source": [
    "names = ['preg', 'plas', 'pres', 'skin', 'test', 'mass', 'pedi', 'age', 'class']\n",
    "df = pd.read_csv('pima-indians-diabetes.data (1).csv', names=names)\n",
    "df.head()"
   ]
  },
  {
   "cell_type": "code",
   "execution_count": 3,
   "id": "5d1433ab",
   "metadata": {},
   "outputs": [
    {
     "data": {
      "text/plain": [
       "array([[  6.   , 148.   ,  72.   , ...,   0.627,  50.   ,   1.   ],\n",
       "       [  1.   ,  85.   ,  66.   , ...,   0.351,  31.   ,   0.   ],\n",
       "       [  8.   , 183.   ,  64.   , ...,   0.672,  32.   ,   1.   ],\n",
       "       ...,\n",
       "       [  5.   , 121.   ,  72.   , ...,   0.245,  30.   ,   0.   ],\n",
       "       [  1.   , 126.   ,  60.   , ...,   0.349,  47.   ,   1.   ],\n",
       "       [  1.   ,  93.   ,  70.   , ...,   0.315,  23.   ,   0.   ]])"
      ]
     },
     "execution_count": 3,
     "metadata": {},
     "output_type": "execute_result"
    }
   ],
   "source": [
    "array = df.values\n",
    "array"
   ]
  },
  {
   "cell_type": "code",
   "execution_count": 4,
   "id": "5a45f5a0",
   "metadata": {},
   "outputs": [],
   "source": [
    "X = array[:,0:8]\n",
    "Y = array[:,8]"
   ]
  },
  {
   "cell_type": "code",
   "execution_count": 5,
   "id": "67cc90eb",
   "metadata": {},
   "outputs": [],
   "source": [
    "x_train, x_test, y_train, y_test = train_test_split(X, Y, test_size=0.3)"
   ]
  },
  {
   "cell_type": "code",
   "execution_count": 6,
   "id": "3b1987e5",
   "metadata": {},
   "outputs": [
    {
     "data": {
      "text/plain": [
       "((537, 8), (231, 8), (537,), (231,))"
      ]
     },
     "execution_count": 6,
     "metadata": {},
     "output_type": "execute_result"
    }
   ],
   "source": [
    "x_train.shape, x_test.shape, y_train.shape, y_test.shape"
   ]
  },
  {
   "cell_type": "code",
   "execution_count": 7,
   "id": "b71f0e92",
   "metadata": {},
   "outputs": [
    {
     "name": "stdout",
     "output_type": "stream",
     "text": [
      "Fitting 10 folds for each of 10 candidates, totalling 100 fits\n",
      "[CV 1/10; 1/10] START C=0.01, gamma=0.01, kernel=rbf............................\n",
      "[CV 1/10; 1/10] END C=0.01, gamma=0.01, kernel=rbf;, score=0.667 total time=   0.0s\n",
      "[CV 2/10; 1/10] START C=0.01, gamma=0.01, kernel=rbf............................\n",
      "[CV 2/10; 1/10] END C=0.01, gamma=0.01, kernel=rbf;, score=0.667 total time=   0.0s\n",
      "[CV 3/10; 1/10] START C=0.01, gamma=0.01, kernel=rbf............................\n",
      "[CV 3/10; 1/10] END C=0.01, gamma=0.01, kernel=rbf;, score=0.667 total time=   0.0s\n",
      "[CV 4/10; 1/10] START C=0.01, gamma=0.01, kernel=rbf............................\n",
      "[CV 4/10; 1/10] END C=0.01, gamma=0.01, kernel=rbf;, score=0.648 total time=   0.0s\n",
      "[CV 5/10; 1/10] START C=0.01, gamma=0.01, kernel=rbf............................\n",
      "[CV 5/10; 1/10] END C=0.01, gamma=0.01, kernel=rbf;, score=0.648 total time=   0.0s\n",
      "[CV 6/10; 1/10] START C=0.01, gamma=0.01, kernel=rbf............................\n",
      "[CV 6/10; 1/10] END C=0.01, gamma=0.01, kernel=rbf;, score=0.648 total time=   0.0s\n",
      "[CV 7/10; 1/10] START C=0.01, gamma=0.01, kernel=rbf............................\n",
      "[CV 7/10; 1/10] END C=0.01, gamma=0.01, kernel=rbf;, score=0.648 total time=   0.0s\n",
      "[CV 8/10; 1/10] START C=0.01, gamma=0.01, kernel=rbf............................\n",
      "[CV 8/10; 1/10] END C=0.01, gamma=0.01, kernel=rbf;, score=0.660 total time=   0.0s\n",
      "[CV 9/10; 1/10] START C=0.01, gamma=0.01, kernel=rbf............................\n",
      "[CV 9/10; 1/10] END C=0.01, gamma=0.01, kernel=rbf;, score=0.660 total time=   0.0s\n",
      "[CV 10/10; 1/10] START C=0.01, gamma=0.01, kernel=rbf...........................\n",
      "[CV 10/10; 1/10] END C=0.01, gamma=0.01, kernel=rbf;, score=0.660 total time=   0.0s\n",
      "[CV 1/10; 2/10] START C=0.001, gamma=0.1, kernel=linear.........................\n",
      "[CV 1/10; 2/10] END C=0.001, gamma=0.1, kernel=linear;, score=0.704 total time=   0.0s\n",
      "[CV 2/10; 2/10] START C=0.001, gamma=0.1, kernel=linear.........................\n",
      "[CV 2/10; 2/10] END C=0.001, gamma=0.1, kernel=linear;, score=0.833 total time=   0.0s\n",
      "[CV 3/10; 2/10] START C=0.001, gamma=0.1, kernel=linear.........................\n",
      "[CV 3/10; 2/10] END C=0.001, gamma=0.1, kernel=linear;, score=0.741 total time=   0.0s\n",
      "[CV 4/10; 2/10] START C=0.001, gamma=0.1, kernel=linear.........................\n",
      "[CV 4/10; 2/10] END C=0.001, gamma=0.1, kernel=linear;, score=0.741 total time=   0.0s\n",
      "[CV 5/10; 2/10] START C=0.001, gamma=0.1, kernel=linear.........................\n",
      "[CV 5/10; 2/10] END C=0.001, gamma=0.1, kernel=linear;, score=0.796 total time=   0.0s\n",
      "[CV 6/10; 2/10] START C=0.001, gamma=0.1, kernel=linear.........................\n",
      "[CV 6/10; 2/10] END C=0.001, gamma=0.1, kernel=linear;, score=0.630 total time=   0.0s\n",
      "[CV 7/10; 2/10] START C=0.001, gamma=0.1, kernel=linear.........................\n",
      "[CV 7/10; 2/10] END C=0.001, gamma=0.1, kernel=linear;, score=0.741 total time=   0.0s\n",
      "[CV 8/10; 2/10] START C=0.001, gamma=0.1, kernel=linear.........................\n",
      "[CV 8/10; 2/10] END C=0.001, gamma=0.1, kernel=linear;, score=0.755 total time=   0.0s\n",
      "[CV 9/10; 2/10] START C=0.001, gamma=0.1, kernel=linear.........................\n",
      "[CV 9/10; 2/10] END C=0.001, gamma=0.1, kernel=linear;, score=0.792 total time=   0.0s\n",
      "[CV 10/10; 2/10] START C=0.001, gamma=0.1, kernel=linear........................\n",
      "[CV 10/10; 2/10] END C=0.001, gamma=0.1, kernel=linear;, score=0.811 total time=   0.0s\n",
      "[CV 1/10; 3/10] START C=0.0001, gamma=0.01, kernel=linear.......................\n",
      "[CV 1/10; 3/10] END C=0.0001, gamma=0.01, kernel=linear;, score=0.741 total time=   0.0s\n",
      "[CV 2/10; 3/10] START C=0.0001, gamma=0.01, kernel=linear.......................\n",
      "[CV 2/10; 3/10] END C=0.0001, gamma=0.01, kernel=linear;, score=0.796 total time=   0.0s\n",
      "[CV 3/10; 3/10] START C=0.0001, gamma=0.01, kernel=linear.......................\n",
      "[CV 3/10; 3/10] END C=0.0001, gamma=0.01, kernel=linear;, score=0.741 total time=   0.0s\n",
      "[CV 4/10; 3/10] START C=0.0001, gamma=0.01, kernel=linear.......................\n",
      "[CV 4/10; 3/10] END C=0.0001, gamma=0.01, kernel=linear;, score=0.704 total time=   0.0s\n",
      "[CV 5/10; 3/10] START C=0.0001, gamma=0.01, kernel=linear.......................\n",
      "[CV 5/10; 3/10] END C=0.0001, gamma=0.01, kernel=linear;, score=0.796 total time=   0.0s\n",
      "[CV 6/10; 3/10] START C=0.0001, gamma=0.01, kernel=linear.......................\n",
      "[CV 6/10; 3/10] END C=0.0001, gamma=0.01, kernel=linear;, score=0.611 total time=   0.0s\n",
      "[CV 7/10; 3/10] START C=0.0001, gamma=0.01, kernel=linear.......................\n",
      "[CV 7/10; 3/10] END C=0.0001, gamma=0.01, kernel=linear;, score=0.778 total time=   0.0s\n",
      "[CV 8/10; 3/10] START C=0.0001, gamma=0.01, kernel=linear.......................\n",
      "[CV 8/10; 3/10] END C=0.0001, gamma=0.01, kernel=linear;, score=0.736 total time=   0.0s\n",
      "[CV 9/10; 3/10] START C=0.0001, gamma=0.01, kernel=linear.......................\n",
      "[CV 9/10; 3/10] END C=0.0001, gamma=0.01, kernel=linear;, score=0.811 total time=   0.0s\n",
      "[CV 10/10; 3/10] START C=0.0001, gamma=0.01, kernel=linear......................\n",
      "[CV 10/10; 3/10] END C=0.0001, gamma=0.01, kernel=linear;, score=0.792 total time=   0.0s\n",
      "[CV 1/10; 4/10] START C=0.0001, gamma=0.5, kernel=rbf...........................\n",
      "[CV 1/10; 4/10] END C=0.0001, gamma=0.5, kernel=rbf;, score=0.667 total time=   0.0s\n",
      "[CV 2/10; 4/10] START C=0.0001, gamma=0.5, kernel=rbf...........................\n",
      "[CV 2/10; 4/10] END C=0.0001, gamma=0.5, kernel=rbf;, score=0.667 total time=   0.0s\n",
      "[CV 3/10; 4/10] START C=0.0001, gamma=0.5, kernel=rbf...........................\n",
      "[CV 3/10; 4/10] END C=0.0001, gamma=0.5, kernel=rbf;, score=0.667 total time=   0.0s\n",
      "[CV 4/10; 4/10] START C=0.0001, gamma=0.5, kernel=rbf...........................\n",
      "[CV 4/10; 4/10] END C=0.0001, gamma=0.5, kernel=rbf;, score=0.648 total time=   0.0s\n",
      "[CV 5/10; 4/10] START C=0.0001, gamma=0.5, kernel=rbf...........................\n",
      "[CV 5/10; 4/10] END C=0.0001, gamma=0.5, kernel=rbf;, score=0.648 total time=   0.0s\n",
      "[CV 6/10; 4/10] START C=0.0001, gamma=0.5, kernel=rbf...........................\n",
      "[CV 6/10; 4/10] END C=0.0001, gamma=0.5, kernel=rbf;, score=0.648 total time=   0.0s\n",
      "[CV 7/10; 4/10] START C=0.0001, gamma=0.5, kernel=rbf...........................\n",
      "[CV 7/10; 4/10] END C=0.0001, gamma=0.5, kernel=rbf;, score=0.648 total time=   0.0s\n",
      "[CV 8/10; 4/10] START C=0.0001, gamma=0.5, kernel=rbf...........................\n",
      "[CV 8/10; 4/10] END C=0.0001, gamma=0.5, kernel=rbf;, score=0.660 total time=   0.0s\n",
      "[CV 9/10; 4/10] START C=0.0001, gamma=0.5, kernel=rbf...........................\n",
      "[CV 9/10; 4/10] END C=0.0001, gamma=0.5, kernel=rbf;, score=0.660 total time=   0.0s\n",
      "[CV 10/10; 4/10] START C=0.0001, gamma=0.5, kernel=rbf..........................\n",
      "[CV 10/10; 4/10] END C=0.0001, gamma=0.5, kernel=rbf;, score=0.660 total time=   0.0s\n",
      "[CV 1/10; 5/10] START C=0.1, gamma=0.01, kernel=linear..........................\n",
      "[CV 1/10; 5/10] END C=0.1, gamma=0.01, kernel=linear;, score=0.685 total time=   0.1s\n",
      "[CV 2/10; 5/10] START C=0.1, gamma=0.01, kernel=linear..........................\n",
      "[CV 2/10; 5/10] END C=0.1, gamma=0.01, kernel=linear;, score=0.852 total time=   0.1s\n",
      "[CV 3/10; 5/10] START C=0.1, gamma=0.01, kernel=linear..........................\n",
      "[CV 3/10; 5/10] END C=0.1, gamma=0.01, kernel=linear;, score=0.759 total time=   0.1s\n",
      "[CV 4/10; 5/10] START C=0.1, gamma=0.01, kernel=linear..........................\n",
      "[CV 4/10; 5/10] END C=0.1, gamma=0.01, kernel=linear;, score=0.778 total time=   0.2s\n",
      "[CV 5/10; 5/10] START C=0.1, gamma=0.01, kernel=linear..........................\n",
      "[CV 5/10; 5/10] END C=0.1, gamma=0.01, kernel=linear;, score=0.833 total time=   0.1s\n",
      "[CV 6/10; 5/10] START C=0.1, gamma=0.01, kernel=linear..........................\n",
      "[CV 6/10; 5/10] END C=0.1, gamma=0.01, kernel=linear;, score=0.648 total time=   0.1s\n",
      "[CV 7/10; 5/10] START C=0.1, gamma=0.01, kernel=linear..........................\n",
      "[CV 7/10; 5/10] END C=0.1, gamma=0.01, kernel=linear;, score=0.778 total time=   0.4s\n",
      "[CV 8/10; 5/10] START C=0.1, gamma=0.01, kernel=linear..........................\n",
      "[CV 8/10; 5/10] END C=0.1, gamma=0.01, kernel=linear;, score=0.755 total time=   0.4s\n",
      "[CV 9/10; 5/10] START C=0.1, gamma=0.01, kernel=linear..........................\n",
      "[CV 9/10; 5/10] END C=0.1, gamma=0.01, kernel=linear;, score=0.774 total time=   0.4s\n",
      "[CV 10/10; 5/10] START C=0.1, gamma=0.01, kernel=linear.........................\n"
     ]
    },
    {
     "name": "stdout",
     "output_type": "stream",
     "text": [
      "[CV 10/10; 5/10] END C=0.1, gamma=0.01, kernel=linear;, score=0.811 total time=   0.2s\n",
      "[CV 1/10; 6/10] START C=10, gamma=0.1, kernel=linear............................\n",
      "[CV 1/10; 6/10] END C=10, gamma=0.1, kernel=linear;, score=0.704 total time=  16.0s\n",
      "[CV 2/10; 6/10] START C=10, gamma=0.1, kernel=linear............................\n",
      "[CV 2/10; 6/10] END C=10, gamma=0.1, kernel=linear;, score=0.833 total time=  29.7s\n",
      "[CV 3/10; 6/10] START C=10, gamma=0.1, kernel=linear............................\n",
      "[CV 3/10; 6/10] END C=10, gamma=0.1, kernel=linear;, score=0.759 total time=  22.3s\n",
      "[CV 4/10; 6/10] START C=10, gamma=0.1, kernel=linear............................\n",
      "[CV 4/10; 6/10] END C=10, gamma=0.1, kernel=linear;, score=0.796 total time=  41.5s\n",
      "[CV 5/10; 6/10] START C=10, gamma=0.1, kernel=linear............................\n",
      "[CV 5/10; 6/10] END C=10, gamma=0.1, kernel=linear;, score=0.815 total time=  26.2s\n",
      "[CV 6/10; 6/10] START C=10, gamma=0.1, kernel=linear............................\n",
      "[CV 6/10; 6/10] END C=10, gamma=0.1, kernel=linear;, score=0.648 total time=  13.3s\n",
      "[CV 7/10; 6/10] START C=10, gamma=0.1, kernel=linear............................\n",
      "[CV 7/10; 6/10] END C=10, gamma=0.1, kernel=linear;, score=0.778 total time=  32.5s\n",
      "[CV 8/10; 6/10] START C=10, gamma=0.1, kernel=linear............................\n",
      "[CV 8/10; 6/10] END C=10, gamma=0.1, kernel=linear;, score=0.755 total time=  16.3s\n",
      "[CV 9/10; 6/10] START C=10, gamma=0.1, kernel=linear............................\n",
      "[CV 9/10; 6/10] END C=10, gamma=0.1, kernel=linear;, score=0.755 total time=  30.6s\n",
      "[CV 10/10; 6/10] START C=10, gamma=0.1, kernel=linear...........................\n",
      "[CV 10/10; 6/10] END C=10, gamma=0.1, kernel=linear;, score=0.811 total time=  28.0s\n",
      "[CV 1/10; 7/10] START C=10, gamma=0.1, kernel=rbf...............................\n",
      "[CV 1/10; 7/10] END C=10, gamma=0.1, kernel=rbf;, score=0.667 total time=   0.0s\n",
      "[CV 2/10; 7/10] START C=10, gamma=0.1, kernel=rbf...............................\n",
      "[CV 2/10; 7/10] END C=10, gamma=0.1, kernel=rbf;, score=0.667 total time=   0.0s\n",
      "[CV 3/10; 7/10] START C=10, gamma=0.1, kernel=rbf...............................\n",
      "[CV 3/10; 7/10] END C=10, gamma=0.1, kernel=rbf;, score=0.667 total time=   0.0s\n",
      "[CV 4/10; 7/10] START C=10, gamma=0.1, kernel=rbf...............................\n",
      "[CV 4/10; 7/10] END C=10, gamma=0.1, kernel=rbf;, score=0.648 total time=   0.0s\n",
      "[CV 5/10; 7/10] START C=10, gamma=0.1, kernel=rbf...............................\n",
      "[CV 5/10; 7/10] END C=10, gamma=0.1, kernel=rbf;, score=0.648 total time=   0.0s\n",
      "[CV 6/10; 7/10] START C=10, gamma=0.1, kernel=rbf...............................\n",
      "[CV 6/10; 7/10] END C=10, gamma=0.1, kernel=rbf;, score=0.648 total time=   0.0s\n",
      "[CV 7/10; 7/10] START C=10, gamma=0.1, kernel=rbf...............................\n",
      "[CV 7/10; 7/10] END C=10, gamma=0.1, kernel=rbf;, score=0.648 total time=   0.0s\n",
      "[CV 8/10; 7/10] START C=10, gamma=0.1, kernel=rbf...............................\n",
      "[CV 8/10; 7/10] END C=10, gamma=0.1, kernel=rbf;, score=0.660 total time=   0.0s\n",
      "[CV 9/10; 7/10] START C=10, gamma=0.1, kernel=rbf...............................\n",
      "[CV 9/10; 7/10] END C=10, gamma=0.1, kernel=rbf;, score=0.660 total time=   0.0s\n",
      "[CV 10/10; 7/10] START C=10, gamma=0.1, kernel=rbf..............................\n",
      "[CV 10/10; 7/10] END C=10, gamma=0.1, kernel=rbf;, score=0.660 total time=   0.0s\n",
      "[CV 1/10; 8/10] START C=10, gamma=0.5, kernel=linear............................\n",
      "[CV 1/10; 8/10] END C=10, gamma=0.5, kernel=linear;, score=0.704 total time=  15.9s\n",
      "[CV 2/10; 8/10] START C=10, gamma=0.5, kernel=linear............................\n",
      "[CV 2/10; 8/10] END C=10, gamma=0.5, kernel=linear;, score=0.833 total time=  29.4s\n",
      "[CV 3/10; 8/10] START C=10, gamma=0.5, kernel=linear............................\n",
      "[CV 3/10; 8/10] END C=10, gamma=0.5, kernel=linear;, score=0.759 total time=  23.2s\n",
      "[CV 4/10; 8/10] START C=10, gamma=0.5, kernel=linear............................\n",
      "[CV 4/10; 8/10] END C=10, gamma=0.5, kernel=linear;, score=0.796 total time=  42.2s\n",
      "[CV 5/10; 8/10] START C=10, gamma=0.5, kernel=linear............................\n",
      "[CV 5/10; 8/10] END C=10, gamma=0.5, kernel=linear;, score=0.815 total time=  28.2s\n",
      "[CV 6/10; 8/10] START C=10, gamma=0.5, kernel=linear............................\n",
      "[CV 6/10; 8/10] END C=10, gamma=0.5, kernel=linear;, score=0.648 total time=  14.5s\n",
      "[CV 7/10; 8/10] START C=10, gamma=0.5, kernel=linear............................\n",
      "[CV 7/10; 8/10] END C=10, gamma=0.5, kernel=linear;, score=0.778 total time=  32.9s\n",
      "[CV 8/10; 8/10] START C=10, gamma=0.5, kernel=linear............................\n",
      "[CV 8/10; 8/10] END C=10, gamma=0.5, kernel=linear;, score=0.755 total time=  17.4s\n",
      "[CV 9/10; 8/10] START C=10, gamma=0.5, kernel=linear............................\n",
      "[CV 9/10; 8/10] END C=10, gamma=0.5, kernel=linear;, score=0.755 total time=  31.2s\n",
      "[CV 10/10; 8/10] START C=10, gamma=0.5, kernel=linear...........................\n",
      "[CV 10/10; 8/10] END C=10, gamma=0.5, kernel=linear;, score=0.811 total time=  28.3s\n",
      "[CV 1/10; 9/10] START C=0.1, gamma=0.1, kernel=rbf..............................\n",
      "[CV 1/10; 9/10] END C=0.1, gamma=0.1, kernel=rbf;, score=0.667 total time=   0.0s\n",
      "[CV 2/10; 9/10] START C=0.1, gamma=0.1, kernel=rbf..............................\n",
      "[CV 2/10; 9/10] END C=0.1, gamma=0.1, kernel=rbf;, score=0.667 total time=   0.0s\n",
      "[CV 3/10; 9/10] START C=0.1, gamma=0.1, kernel=rbf..............................\n",
      "[CV 3/10; 9/10] END C=0.1, gamma=0.1, kernel=rbf;, score=0.667 total time=   0.0s\n",
      "[CV 4/10; 9/10] START C=0.1, gamma=0.1, kernel=rbf..............................\n",
      "[CV 4/10; 9/10] END C=0.1, gamma=0.1, kernel=rbf;, score=0.648 total time=   0.0s\n",
      "[CV 5/10; 9/10] START C=0.1, gamma=0.1, kernel=rbf..............................\n",
      "[CV 5/10; 9/10] END C=0.1, gamma=0.1, kernel=rbf;, score=0.648 total time=   0.0s\n",
      "[CV 6/10; 9/10] START C=0.1, gamma=0.1, kernel=rbf..............................\n",
      "[CV 6/10; 9/10] END C=0.1, gamma=0.1, kernel=rbf;, score=0.648 total time=   0.0s\n",
      "[CV 7/10; 9/10] START C=0.1, gamma=0.1, kernel=rbf..............................\n",
      "[CV 7/10; 9/10] END C=0.1, gamma=0.1, kernel=rbf;, score=0.648 total time=   0.0s\n",
      "[CV 8/10; 9/10] START C=0.1, gamma=0.1, kernel=rbf..............................\n",
      "[CV 8/10; 9/10] END C=0.1, gamma=0.1, kernel=rbf;, score=0.660 total time=   0.0s\n",
      "[CV 9/10; 9/10] START C=0.1, gamma=0.1, kernel=rbf..............................\n",
      "[CV 9/10; 9/10] END C=0.1, gamma=0.1, kernel=rbf;, score=0.660 total time=   0.0s\n",
      "[CV 10/10; 9/10] START C=0.1, gamma=0.1, kernel=rbf.............................\n",
      "[CV 10/10; 9/10] END C=0.1, gamma=0.1, kernel=rbf;, score=0.660 total time=   0.0s\n",
      "[CV 1/10; 10/10] START C=0.01, gamma=0.5, kernel=rbf............................\n",
      "[CV 1/10; 10/10] END C=0.01, gamma=0.5, kernel=rbf;, score=0.667 total time=   0.0s\n",
      "[CV 2/10; 10/10] START C=0.01, gamma=0.5, kernel=rbf............................\n",
      "[CV 2/10; 10/10] END C=0.01, gamma=0.5, kernel=rbf;, score=0.667 total time=   0.0s\n",
      "[CV 3/10; 10/10] START C=0.01, gamma=0.5, kernel=rbf............................\n",
      "[CV 3/10; 10/10] END C=0.01, gamma=0.5, kernel=rbf;, score=0.667 total time=   0.0s\n",
      "[CV 4/10; 10/10] START C=0.01, gamma=0.5, kernel=rbf............................\n",
      "[CV 4/10; 10/10] END C=0.01, gamma=0.5, kernel=rbf;, score=0.648 total time=   0.0s\n",
      "[CV 5/10; 10/10] START C=0.01, gamma=0.5, kernel=rbf............................\n",
      "[CV 5/10; 10/10] END C=0.01, gamma=0.5, kernel=rbf;, score=0.648 total time=   0.0s\n",
      "[CV 6/10; 10/10] START C=0.01, gamma=0.5, kernel=rbf............................\n",
      "[CV 6/10; 10/10] END C=0.01, gamma=0.5, kernel=rbf;, score=0.648 total time=   0.0s\n",
      "[CV 7/10; 10/10] START C=0.01, gamma=0.5, kernel=rbf............................\n",
      "[CV 7/10; 10/10] END C=0.01, gamma=0.5, kernel=rbf;, score=0.648 total time=   0.0s\n",
      "[CV 8/10; 10/10] START C=0.01, gamma=0.5, kernel=rbf............................\n",
      "[CV 8/10; 10/10] END C=0.01, gamma=0.5, kernel=rbf;, score=0.660 total time=   0.0s\n",
      "[CV 9/10; 10/10] START C=0.01, gamma=0.5, kernel=rbf............................\n",
      "[CV 9/10; 10/10] END C=0.01, gamma=0.5, kernel=rbf;, score=0.660 total time=   0.0s\n",
      "[CV 10/10; 10/10] START C=0.01, gamma=0.5, kernel=rbf...........................\n",
      "[CV 10/10; 10/10] END C=0.01, gamma=0.5, kernel=rbf;, score=0.660 total time=   0.0s\n"
     ]
    },
    {
     "data": {
      "text/plain": [
       "RandomizedSearchCV(cv=10, estimator=SVC(),\n",
       "                   param_distributions=[{'C': [10, 0.1, 0.01, 0.001, 0.0001],\n",
       "                                         'gamma': [0.5, 0.1, 0.01],\n",
       "                                         'kernel': ['linear', 'rbf']}],\n",
       "                   verbose=300)"
      ]
     },
     "execution_count": 7,
     "metadata": {},
     "output_type": "execute_result"
    }
   ],
   "source": [
    "# Grid Search CV\n",
    "clf = SVC()\n",
    "param_grid = [{'kernel':['linear','rbf'],'gamma':[0.5,0.1,0.01],'C':[10,0.1,0.01,0.001,0.0001]}]\n",
    "gsv = RandomizedSearchCV(clf, param_grid, cv=10, verbose=300)\n",
    "gsv.fit(x_train, y_train)"
   ]
  },
  {
   "cell_type": "code",
   "execution_count": 11,
   "id": "8793a3f4",
   "metadata": {},
   "outputs": [
    {
     "data": {
      "text/plain": [
       "0.7672955974842768"
      ]
     },
     "execution_count": 11,
     "metadata": {},
     "output_type": "execute_result"
    }
   ],
   "source": [
    "gsv.best_score_"
   ]
  },
  {
   "cell_type": "code",
   "execution_count": 12,
   "id": "7be9b5ef",
   "metadata": {},
   "outputs": [
    {
     "data": {
      "text/plain": [
       "{'kernel': 'linear', 'gamma': 0.01, 'C': 0.1}"
      ]
     },
     "execution_count": 12,
     "metadata": {},
     "output_type": "execute_result"
    }
   ],
   "source": [
    "gsv.best_params_"
   ]
  },
  {
   "cell_type": "code",
   "execution_count": 17,
   "id": "f96eafcd",
   "metadata": {},
   "outputs": [
    {
     "name": "stdout",
     "output_type": "stream",
     "text": [
      "Accuarcy 77.48917748917748\n"
     ]
    },
    {
     "data": {
      "text/plain": [
       "array([[137,  10],\n",
       "       [ 42,  42]], dtype=int64)"
      ]
     },
     "execution_count": 17,
     "metadata": {},
     "output_type": "execute_result"
    }
   ],
   "source": [
    "clf = SVC(kernel='linear',C=0.1, gamma=0.01)\n",
    "clf.fit(x_train,y_train)\n",
    "y_pred = clf.predict(x_test)\n",
    "acc = accuracy_score(y_test,y_pred)*100\n",
    "print(\"Accuarcy\",acc)\n",
    "confusion_matrix(y_test,y_pred)"
   ]
  },
  {
   "cell_type": "code",
   "execution_count": null,
   "id": "9dcdbe2d",
   "metadata": {},
   "outputs": [],
   "source": []
  },
  {
   "cell_type": "code",
   "execution_count": null,
   "id": "de1715dd",
   "metadata": {},
   "outputs": [],
   "source": []
  }
 ],
 "metadata": {
  "kernelspec": {
   "display_name": "Python 3",
   "language": "python",
   "name": "python3"
  },
  "language_info": {
   "codemirror_mode": {
    "name": "ipython",
    "version": 3
   },
   "file_extension": ".py",
   "mimetype": "text/x-python",
   "name": "python",
   "nbconvert_exporter": "python",
   "pygments_lexer": "ipython3",
   "version": "3.9.13"
  }
 },
 "nbformat": 4,
 "nbformat_minor": 5
}
