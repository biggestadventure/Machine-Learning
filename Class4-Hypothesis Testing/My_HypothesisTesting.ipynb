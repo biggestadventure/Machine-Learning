{
 "cells": [
  {
   "cell_type": "code",
   "execution_count": 1,
   "id": "f38e6f67",
   "metadata": {},
   "outputs": [],
   "source": [
    "import pandas as pd\n",
    "import numpy as np\n",
    "from scipy import stats"
   ]
  },
  {
   "cell_type": "markdown",
   "id": "8b4e1a4f",
   "metadata": {},
   "source": [
    "#### Q.Supermarket Loyalty Program"
   ]
  },
  {
   "cell_type": "code",
   "execution_count": 2,
   "id": "5e6b2958",
   "metadata": {},
   "outputs": [],
   "source": [
    "#1.H0 -> U <= 120\n",
    "#  H1 -> U > 120"
   ]
  },
  {
   "cell_type": "code",
   "execution_count": 2,
   "id": "6a8860b5",
   "metadata": {},
   "outputs": [],
   "source": [
    "#2.t-test\n",
    "t = (130-120) / (40/np.sqrt(80))"
   ]
  },
  {
   "cell_type": "code",
   "execution_count": 3,
   "id": "f0f1a853",
   "metadata": {},
   "outputs": [
    {
     "data": {
      "text/plain": [
       "2.23606797749979"
      ]
     },
     "execution_count": 3,
     "metadata": {},
     "output_type": "execute_result"
    }
   ],
   "source": [
    "t"
   ]
  },
  {
   "cell_type": "code",
   "execution_count": null,
   "id": "62a9bbb8",
   "metadata": {},
   "outputs": [],
   "source": [
    "#3.alfha = 0.05"
   ]
  },
  {
   "cell_type": "code",
   "execution_count": 4,
   "id": "7cc49d7d",
   "metadata": {},
   "outputs": [],
   "source": [
    "#4.Pvalue\n",
    "p=1-stats.t.cdf(2.236,79)"
   ]
  },
  {
   "cell_type": "code",
   "execution_count": 5,
   "id": "a051f4ad",
   "metadata": {},
   "outputs": [
    {
     "data": {
      "text/plain": [
       "0.014086638182747024"
      ]
     },
     "execution_count": 5,
     "metadata": {},
     "output_type": "execute_result"
    }
   ],
   "source": [
    "p"
   ]
  },
  {
   "cell_type": "code",
   "execution_count": 9,
   "id": "34a75e9a",
   "metadata": {},
   "outputs": [],
   "source": [
    "#5.p vlaue < 0.05\n",
    "# P < alfha ,so accept Alternate Hypothesis(H0)\n",
    "# so the program can Launch"
   ]
  },
  {
   "cell_type": "markdown",
   "id": "284f7bae",
   "metadata": {},
   "source": [
    "#### Q.Process Control @ a call centere"
   ]
  },
  {
   "cell_type": "code",
   "execution_count": null,
   "id": "e9ea4a7d",
   "metadata": {},
   "outputs": [],
   "source": [
    "#1.H0 -> U = 4\n",
    "#  H1 -> U =/= 4\n",
    "#1st Day"
   ]
  },
  {
   "cell_type": "code",
   "execution_count": 6,
   "id": "2389b8d9",
   "metadata": {},
   "outputs": [],
   "source": [
    "#t-test\n",
    "t = (3.7-4)/(3/np.sqrt(50))"
   ]
  },
  {
   "cell_type": "code",
   "execution_count": 13,
   "id": "e9595f39",
   "metadata": {},
   "outputs": [
    {
     "data": {
      "text/plain": [
       "-0.7071067811865471"
      ]
     },
     "execution_count": 13,
     "metadata": {},
     "output_type": "execute_result"
    }
   ],
   "source": [
    "t"
   ]
  },
  {
   "cell_type": "code",
   "execution_count": 14,
   "id": "e83c090e",
   "metadata": {},
   "outputs": [],
   "source": [
    "p=stats.t.cdf(-0.707,49)"
   ]
  },
  {
   "cell_type": "code",
   "execution_count": 15,
   "id": "71de0f6d",
   "metadata": {},
   "outputs": [
    {
     "data": {
      "text/plain": [
       "0.24145766883339476"
      ]
     },
     "execution_count": 15,
     "metadata": {},
     "output_type": "execute_result"
    }
   ],
   "source": [
    "p"
   ]
  },
  {
   "cell_type": "code",
   "execution_count": 16,
   "id": "568a3366",
   "metadata": {},
   "outputs": [],
   "source": [
    "#3rd Day -> 3.5"
   ]
  },
  {
   "cell_type": "code",
   "execution_count": 52,
   "id": "aec8ab9e",
   "metadata": {},
   "outputs": [],
   "source": [
    "t = (3.5-4)/(3/np.sqrt(50))"
   ]
  },
  {
   "cell_type": "code",
   "execution_count": 53,
   "id": "75da0c38",
   "metadata": {},
   "outputs": [
    {
     "data": {
      "text/plain": [
       "-1.1785113019775793"
      ]
     },
     "execution_count": 53,
     "metadata": {},
     "output_type": "execute_result"
    }
   ],
   "source": [
    "t"
   ]
  },
  {
   "cell_type": "code",
   "execution_count": 54,
   "id": "6fffe050",
   "metadata": {},
   "outputs": [],
   "source": [
    "p=stats.t.cdf(-1.1785,49)"
   ]
  },
  {
   "cell_type": "code",
   "execution_count": 55,
   "id": "bff8a8f6",
   "metadata": {},
   "outputs": [
    {
     "data": {
      "text/plain": [
       "0.12214439617464383"
      ]
     },
     "execution_count": 55,
     "metadata": {},
     "output_type": "execute_result"
    }
   ],
   "source": [
    "p"
   ]
  },
  {
   "cell_type": "code",
   "execution_count": 7,
   "id": "4f3fc411",
   "metadata": {},
   "outputs": [],
   "source": [
    "#13th day -> 4.0"
   ]
  },
  {
   "cell_type": "code",
   "execution_count": 8,
   "id": "ee8cda27",
   "metadata": {},
   "outputs": [],
   "source": [
    "t = (4-4)/(3/np.sqrt(50))"
   ]
  },
  {
   "cell_type": "code",
   "execution_count": 9,
   "id": "3fc5f193",
   "metadata": {},
   "outputs": [
    {
     "data": {
      "text/plain": [
       "0.0"
      ]
     },
     "execution_count": 9,
     "metadata": {},
     "output_type": "execute_result"
    }
   ],
   "source": [
    "t"
   ]
  },
  {
   "cell_type": "code",
   "execution_count": 10,
   "id": "e86f55ee",
   "metadata": {},
   "outputs": [],
   "source": [
    "p=2*stats.t.cdf(0,49)"
   ]
  },
  {
   "cell_type": "code",
   "execution_count": 11,
   "id": "6204e252",
   "metadata": {},
   "outputs": [
    {
     "data": {
      "text/plain": [
       "1.0"
      ]
     },
     "execution_count": 11,
     "metadata": {},
     "output_type": "execute_result"
    }
   ],
   "source": [
    "p"
   ]
  },
  {
   "cell_type": "code",
   "execution_count": null,
   "id": "a5dcedec",
   "metadata": {},
   "outputs": [],
   "source": [
    "#4th day -> 4.2"
   ]
  },
  {
   "cell_type": "code",
   "execution_count": 29,
   "id": "edf00da5",
   "metadata": {},
   "outputs": [],
   "source": [
    "t = (4.2-4)/(3/np.sqrt(50))"
   ]
  },
  {
   "cell_type": "code",
   "execution_count": 30,
   "id": "47090d50",
   "metadata": {},
   "outputs": [
    {
     "data": {
      "text/plain": [
       "0.4714045207910321"
      ]
     },
     "execution_count": 30,
     "metadata": {},
     "output_type": "execute_result"
    }
   ],
   "source": [
    "t"
   ]
  },
  {
   "cell_type": "code",
   "execution_count": 31,
   "id": "b6f84948",
   "metadata": {},
   "outputs": [],
   "source": [
    "p=stats.t.cdf(0.471,49)"
   ]
  },
  {
   "cell_type": "code",
   "execution_count": 33,
   "id": "eccb0e86",
   "metadata": {},
   "outputs": [
    {
     "data": {
      "text/plain": [
       "0.6801345376280276"
      ]
     },
     "execution_count": 33,
     "metadata": {},
     "output_type": "execute_result"
    }
   ],
   "source": [
    "p"
   ]
  },
  {
   "cell_type": "code",
   "execution_count": null,
   "id": "e30dbfcd",
   "metadata": {},
   "outputs": [],
   "source": [
    "#17th Day -> 5.3"
   ]
  },
  {
   "cell_type": "code",
   "execution_count": 34,
   "id": "81054038",
   "metadata": {},
   "outputs": [],
   "source": [
    "t = (5.3-4)/(3/np.sqrt(50))"
   ]
  },
  {
   "cell_type": "code",
   "execution_count": 36,
   "id": "5226d637",
   "metadata": {},
   "outputs": [
    {
     "data": {
      "text/plain": [
       "3.0641293851417055"
      ]
     },
     "execution_count": 36,
     "metadata": {},
     "output_type": "execute_result"
    }
   ],
   "source": [
    "t"
   ]
  },
  {
   "cell_type": "code",
   "execution_count": 37,
   "id": "91221173",
   "metadata": {},
   "outputs": [],
   "source": [
    "p=stats.t.cdf(3.06,49)"
   ]
  },
  {
   "cell_type": "code",
   "execution_count": 38,
   "id": "a655769c",
   "metadata": {},
   "outputs": [
    {
     "data": {
      "text/plain": [
       "0.9982076186595131"
      ]
     },
     "execution_count": 38,
     "metadata": {},
     "output_type": "execute_result"
    }
   ],
   "source": [
    "p"
   ]
  },
  {
   "cell_type": "code",
   "execution_count": 39,
   "id": "f75d207e",
   "metadata": {},
   "outputs": [],
   "source": [
    "#18th Day -> 6.1"
   ]
  },
  {
   "cell_type": "code",
   "execution_count": 48,
   "id": "a9b29cf7",
   "metadata": {},
   "outputs": [],
   "source": [
    "t = (7.2-4)/(3/np.sqrt(50))"
   ]
  },
  {
   "cell_type": "code",
   "execution_count": 49,
   "id": "88fc6199",
   "metadata": {},
   "outputs": [
    {
     "data": {
      "text/plain": [
       "7.542472332656508"
      ]
     },
     "execution_count": 49,
     "metadata": {},
     "output_type": "execute_result"
    }
   ],
   "source": [
    "t"
   ]
  },
  {
   "cell_type": "code",
   "execution_count": 50,
   "id": "95af2f6b",
   "metadata": {},
   "outputs": [],
   "source": [
    "p=stats.t.cdf(7.542,49)"
   ]
  },
  {
   "cell_type": "code",
   "execution_count": 51,
   "id": "0c8c72b7",
   "metadata": {},
   "outputs": [
    {
     "data": {
      "text/plain": [
       "0.9999999995178909"
      ]
     },
     "execution_count": 51,
     "metadata": {},
     "output_type": "execute_result"
    }
   ],
   "source": [
    "p"
   ]
  },
  {
   "cell_type": "code",
   "execution_count": 22,
   "id": "39162b8f",
   "metadata": {},
   "outputs": [
    {
     "name": "stdout",
     "output_type": "stream",
     "text": [
      "7.542472332656508\n",
      "9.626040426487692e-10\n"
     ]
    }
   ],
   "source": [
    "#if mean call duration  > mu(4) \n",
    "t = (7.2-4)/(3/np.sqrt(50))\n",
    "p=2*stats.t.cdf(-t,49)\n",
    "print(t)\n",
    "print(p)"
   ]
  },
  {
   "cell_type": "code",
   "execution_count": 23,
   "id": "12d6a457",
   "metadata": {},
   "outputs": [
    {
     "name": "stdout",
     "output_type": "stream",
     "text": [
      "-1.1785113019775793\n",
      "0.24428433153451604\n"
     ]
    }
   ],
   "source": [
    "#if mean call duration < mu(4)\n",
    "t = (3.5-4)/(3/np.sqrt(50))\n",
    "p=2*stats.t.cdf(t,49)\n",
    "print(t)\n",
    "print(p)"
   ]
  },
  {
   "cell_type": "code",
   "execution_count": 36,
   "id": "f69853a8",
   "metadata": {},
   "outputs": [],
   "source": [
    "#2nd Methode\n",
    "#10\n",
    "t = (4.6-4)/(3/np.sqrt(50))"
   ]
  },
  {
   "cell_type": "code",
   "execution_count": 37,
   "id": "b636edaf",
   "metadata": {},
   "outputs": [
    {
     "data": {
      "text/plain": [
       "1.4142135623730943"
      ]
     },
     "execution_count": 37,
     "metadata": {},
     "output_type": "execute_result"
    }
   ],
   "source": [
    "t"
   ]
  },
  {
   "cell_type": "code",
   "execution_count": 40,
   "id": "093b9191",
   "metadata": {},
   "outputs": [],
   "source": [
    "p1=stats.t.cdf(-1.41,49)"
   ]
  },
  {
   "cell_type": "code",
   "execution_count": 41,
   "id": "87914638",
   "metadata": {},
   "outputs": [
    {
     "data": {
      "text/plain": [
       "0.08242797259022736"
      ]
     },
     "execution_count": 41,
     "metadata": {},
     "output_type": "execute_result"
    }
   ],
   "source": [
    "p1"
   ]
  },
  {
   "cell_type": "code",
   "execution_count": 42,
   "id": "aaf18c7e",
   "metadata": {},
   "outputs": [],
   "source": [
    "p2=1-stats.t.cdf(1.41,49)"
   ]
  },
  {
   "cell_type": "code",
   "execution_count": 43,
   "id": "709931de",
   "metadata": {},
   "outputs": [
    {
     "data": {
      "text/plain": [
       "0.08242797259022738"
      ]
     },
     "execution_count": 43,
     "metadata": {},
     "output_type": "execute_result"
    }
   ],
   "source": [
    "p2"
   ]
  },
  {
   "cell_type": "code",
   "execution_count": 44,
   "id": "31afb16d",
   "metadata": {},
   "outputs": [
    {
     "data": {
      "text/plain": [
       "0.16485594518045474"
      ]
     },
     "execution_count": 44,
     "metadata": {},
     "output_type": "execute_result"
    }
   ],
   "source": [
    "p1+p2"
   ]
  },
  {
   "cell_type": "code",
   "execution_count": 65,
   "id": "2cec6794",
   "metadata": {},
   "outputs": [],
   "source": [
    "#5\n",
    "t = (3.9-4)/(3/np.sqrt(50))"
   ]
  },
  {
   "cell_type": "code",
   "execution_count": 66,
   "id": "9a6a6f6f",
   "metadata": {},
   "outputs": [
    {
     "data": {
      "text/plain": [
       "-0.23570226039551606"
      ]
     },
     "execution_count": 66,
     "metadata": {},
     "output_type": "execute_result"
    }
   ],
   "source": [
    "t"
   ]
  },
  {
   "cell_type": "code",
   "execution_count": 67,
   "id": "8c246316",
   "metadata": {},
   "outputs": [],
   "source": [
    "p = 2*stats.t.cdf(-0.235,49)"
   ]
  },
  {
   "cell_type": "code",
   "execution_count": 68,
   "id": "6cad7475",
   "metadata": {},
   "outputs": [
    {
     "data": {
      "text/plain": [
       "0.8151880487458036"
      ]
     },
     "execution_count": 68,
     "metadata": {},
     "output_type": "execute_result"
    }
   ],
   "source": [
    "p"
   ]
  },
  {
   "cell_type": "code",
   "execution_count": 74,
   "id": "136ccc00",
   "metadata": {},
   "outputs": [],
   "source": [
    "#20\n",
    "t = (6.5-4)/(3/np.sqrt(50))"
   ]
  },
  {
   "cell_type": "code",
   "execution_count": 75,
   "id": "16451a02",
   "metadata": {},
   "outputs": [
    {
     "data": {
      "text/plain": [
       "5.892556509887896"
      ]
     },
     "execution_count": 75,
     "metadata": {},
     "output_type": "execute_result"
    }
   ],
   "source": [
    "t"
   ]
  },
  {
   "cell_type": "code",
   "execution_count": 76,
   "id": "41d971ed",
   "metadata": {},
   "outputs": [],
   "source": [
    "p = 2*stats.t.cdf(-5.89,49)"
   ]
  },
  {
   "cell_type": "code",
   "execution_count": 78,
   "id": "578cd7a8",
   "metadata": {},
   "outputs": [
    {
     "data": {
      "text/plain": [
       "3.455969509076068e-07"
      ]
     },
     "execution_count": 78,
     "metadata": {},
     "output_type": "execute_result"
    }
   ],
   "source": [
    "p"
   ]
  },
  {
   "cell_type": "code",
   "execution_count": null,
   "id": "e8888d13",
   "metadata": {},
   "outputs": [],
   "source": [
    "#p=0 ,it means there is 0% chance of running normally that day"
   ]
  },
  {
   "cell_type": "code",
   "execution_count": 86,
   "id": "e8be2b23",
   "metadata": {},
   "outputs": [],
   "source": [
    "t = (4.2-4)/(3/np.sqrt(50))"
   ]
  },
  {
   "cell_type": "code",
   "execution_count": 87,
   "id": "10639f73",
   "metadata": {},
   "outputs": [
    {
     "data": {
      "text/plain": [
       "0.4714045207910321"
      ]
     },
     "execution_count": 87,
     "metadata": {},
     "output_type": "execute_result"
    }
   ],
   "source": [
    "t"
   ]
  },
  {
   "cell_type": "code",
   "execution_count": 82,
   "id": "892d7207",
   "metadata": {},
   "outputs": [],
   "source": [
    "p = 2*stats.t.cdf(-0.471,49)"
   ]
  },
  {
   "cell_type": "code",
   "execution_count": 83,
   "id": "235669e4",
   "metadata": {},
   "outputs": [
    {
     "data": {
      "text/plain": [
       "0.6397309247439449"
      ]
     },
     "execution_count": 83,
     "metadata": {},
     "output_type": "execute_result"
    }
   ],
   "source": [
    "p"
   ]
  },
  {
   "cell_type": "markdown",
   "id": "003af95b",
   "metadata": {},
   "source": [
    "#### 1-Sample"
   ]
  },
  {
   "cell_type": "code",
   "execution_count": 25,
   "id": "3214a688",
   "metadata": {},
   "outputs": [],
   "source": [
    "Data = pd.Series([0.593,0.142,0.329,0.691,0.231,0.793,0.519,0.392,0.418])"
   ]
  },
  {
   "cell_type": "code",
   "execution_count": 26,
   "id": "f3136878",
   "metadata": {},
   "outputs": [
    {
     "data": {
      "text/plain": [
       "Ttest_1sampResult(statistic=2.2050588385131595, pvalue=0.05853032968489765)"
      ]
     },
     "execution_count": 26,
     "metadata": {},
     "output_type": "execute_result"
    }
   ],
   "source": [
    "from scipy import stats\n",
    "import scipy\n",
    "scipy.stats.ttest_1samp(Data,0.3)"
   ]
  },
  {
   "cell_type": "code",
   "execution_count": 31,
   "id": "9401bdf2",
   "metadata": {},
   "outputs": [
    {
     "data": {
      "text/plain": [
       "0.029265164842448826"
      ]
     },
     "execution_count": 31,
     "metadata": {},
     "output_type": "execute_result"
    }
   ],
   "source": [
    "#This gives two tail test P value so devided by 2 get final p-value\n",
    "p = scipy.stats.ttest_1samp(Data,0.3)[1]\n",
    "p_value = p/2\n",
    "p_value"
   ]
  },
  {
   "cell_type": "code",
   "execution_count": null,
   "id": "0452cf3f",
   "metadata": {},
   "outputs": [],
   "source": []
  },
  {
   "cell_type": "code",
   "execution_count": 96,
   "id": "858f04e5",
   "metadata": {},
   "outputs": [],
   "source": [
    "#H0 = mu1 = mu2 -> drug has no effect\n",
    "#H1 = mu1 =/= mu2 -> drug has more effective\n",
    "Control = pd.Series([91, 87, 99, 77, 88, 91])\n",
    "Treat = pd.Series([101,110,103,93,99,104])"
   ]
  },
  {
   "cell_type": "code",
   "execution_count": 97,
   "id": "2215b289",
   "metadata": {},
   "outputs": [
    {
     "data": {
      "text/plain": [
       "Ttest_indResult(statistic=-3.4456126735364876, pvalue=0.006272124350809803)"
      ]
     },
     "execution_count": 97,
     "metadata": {},
     "output_type": "execute_result"
    }
   ],
   "source": [
    "stats.ttest_ind(Control,Treat)"
   ]
  },
  {
   "cell_type": "code",
   "execution_count": 98,
   "id": "24ed140f",
   "metadata": {},
   "outputs": [],
   "source": [
    "#so Accept Alternate hypothesis, that is drug is effective(or, more effective compare to placebol) "
   ]
  },
  {
   "cell_type": "code",
   "execution_count": null,
   "id": "6f1187af",
   "metadata": {},
   "outputs": [],
   "source": []
  },
  {
   "cell_type": "code",
   "execution_count": 39,
   "id": "d17b355b",
   "metadata": {},
   "outputs": [
    {
     "ename": "TypeError",
     "evalue": "type tuple doesn't define __round__ method",
     "output_type": "error",
     "traceback": [
      "\u001b[1;31m---------------------------------------------------------------------------\u001b[0m",
      "\u001b[1;31mTypeError\u001b[0m                                 Traceback (most recent call last)",
      "\u001b[1;32m~\\AppData\\Local\\Temp\\ipykernel_18596\\2631304731.py\u001b[0m in \u001b[0;36m<module>\u001b[1;34m\u001b[0m\n\u001b[0;32m      9\u001b[0m \u001b[0mpopulation2\u001b[0m \u001b[1;33m=\u001b[0m \u001b[0mnp\u001b[0m\u001b[1;33m.\u001b[0m\u001b[0mrandom\u001b[0m\u001b[1;33m.\u001b[0m\u001b[0mbinomial\u001b[0m\u001b[1;33m(\u001b[0m\u001b[1;36m1\u001b[0m\u001b[1;33m,\u001b[0m\u001b[0mp2\u001b[0m\u001b[1;33m,\u001b[0m\u001b[0mn2\u001b[0m\u001b[1;33m)\u001b[0m\u001b[1;33m\u001b[0m\u001b[1;33m\u001b[0m\u001b[0m\n\u001b[0;32m     10\u001b[0m \u001b[0mx\u001b[0m \u001b[1;33m=\u001b[0m \u001b[0msm\u001b[0m\u001b[1;33m.\u001b[0m\u001b[0mstats\u001b[0m\u001b[1;33m.\u001b[0m\u001b[0mttest_ind\u001b[0m\u001b[1;33m(\u001b[0m\u001b[0mpopulation1\u001b[0m\u001b[1;33m,\u001b[0m\u001b[0mpopulation2\u001b[0m\u001b[1;33m)\u001b[0m\u001b[1;33m\u001b[0m\u001b[1;33m\u001b[0m\u001b[0m\n\u001b[1;32m---> 11\u001b[1;33m \u001b[0mprint\u001b[0m\u001b[1;33m(\u001b[0m\u001b[0mround\u001b[0m\u001b[1;33m(\u001b[0m\u001b[0mx\u001b[0m\u001b[1;33m,\u001b[0m\u001b[1;36m3\u001b[0m\u001b[1;33m)\u001b[0m\u001b[1;33m)\u001b[0m\u001b[1;33m\u001b[0m\u001b[1;33m\u001b[0m\u001b[0m\n\u001b[0m",
      "\u001b[1;31mTypeError\u001b[0m: type tuple doesn't define __round__ method"
     ]
    }
   ],
   "source": [
    "import statsmodels.api as sm\n",
    "\n",
    "n1 = 247\n",
    "p1 = 0.37\n",
    "n2 = 308\n",
    "p2 = 0.39\n",
    "alpha = 0.05\n",
    "population1 = np.random.binomial(1,p1,n1)\n",
    "population2 = np.random.binomial(1,p2,n2)\n",
    "x = sm.stats.ttest_ind(population1,population2)\n",
    "print(round(x,3))"
   ]
  },
  {
   "cell_type": "code",
   "execution_count": 36,
   "id": "0a6b0fef",
   "metadata": {},
   "outputs": [
    {
     "ename": "TypeError",
     "evalue": "'>' not supported between instances of 'tuple' and 'float'",
     "output_type": "error",
     "traceback": [
      "\u001b[1;31m---------------------------------------------------------------------------\u001b[0m",
      "\u001b[1;31mTypeError\u001b[0m                                 Traceback (most recent call last)",
      "\u001b[1;32m~\\AppData\\Local\\Temp\\ipykernel_18596\\3359658805.py\u001b[0m in \u001b[0;36m<module>\u001b[1;34m\u001b[0m\n\u001b[1;32m----> 1\u001b[1;33m \u001b[1;32mif\u001b[0m \u001b[0mx\u001b[0m \u001b[1;33m>\u001b[0m \u001b[0malpha\u001b[0m\u001b[1;33m:\u001b[0m\u001b[1;33m\u001b[0m\u001b[1;33m\u001b[0m\u001b[0m\n\u001b[0m\u001b[0;32m      2\u001b[0m     \u001b[0mprint\u001b[0m\u001b[1;33m(\u001b[0m\u001b[1;34m\"Accept null hypothesis\"\u001b[0m\u001b[1;33m)\u001b[0m\u001b[1;33m\u001b[0m\u001b[1;33m\u001b[0m\u001b[0m\n\u001b[0;32m      3\u001b[0m \u001b[1;32melse\u001b[0m\u001b[1;33m:\u001b[0m\u001b[1;33m\u001b[0m\u001b[1;33m\u001b[0m\u001b[0m\n\u001b[0;32m      4\u001b[0m     \u001b[0mprint\u001b[0m\u001b[1;33m(\u001b[0m\u001b[1;34m\"Failed to reject null hypothesis\"\u001b[0m\u001b[1;33m)\u001b[0m\u001b[1;33m\u001b[0m\u001b[1;33m\u001b[0m\u001b[0m\n",
      "\u001b[1;31mTypeError\u001b[0m: '>' not supported between instances of 'tuple' and 'float'"
     ]
    }
   ],
   "source": [
    "if x > alpha:\n",
    "    print(\"Accept null hypothesis\")\n",
    "else:\n",
    "    print(\"Failed to reject null hypothesis\")"
   ]
  }
 ],
 "metadata": {
  "kernelspec": {
   "display_name": "Python 3",
   "language": "python",
   "name": "python3"
  },
  "language_info": {
   "codemirror_mode": {
    "name": "ipython",
    "version": 3
   },
   "file_extension": ".py",
   "mimetype": "text/x-python",
   "name": "python",
   "nbconvert_exporter": "python",
   "pygments_lexer": "ipython3",
   "version": "3.9.13"
  }
 },
 "nbformat": 4,
 "nbformat_minor": 5
}
